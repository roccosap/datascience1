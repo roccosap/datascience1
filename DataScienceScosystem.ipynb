{
 "cells": [
  {
   "cell_type": "markdown",
   "id": "bcaebf30-fc2a-4b2c-904e-61be5e0c705c",
   "metadata": {},
   "source": [
    "Exercise 2: Create markdown cell with title of the notebook\n",
    "# Data Science Tools and Ecosystem"
   ]
  },
  {
   "cell_type": "markdown",
   "id": "b48d60aa-1c41-4fbc-b6ea-1907a4a00457",
   "metadata": {},
   "source": [
    "Exercise 3: Create a markdown cell for an introduction\n",
    "## In this notebook, Data Science Tools and Ecosystem are summarized"
   ]
  },
  {
   "cell_type": "markdown",
   "id": "dbe73a54-7a28-4865-b09e-f0c4ed53f88c",
   "metadata": {},
   "source": [
    "__Objectives:__\n",
    "* Add comments to code cells\n",
    "* Create markdown cells\n",
    "* Add ordered and unordered list to markdown cells\n",
    "* Format contect of markdown cells with heading styles"
   ]
  },
  {
   "cell_type": "markdown",
   "id": "667c5d84-0ed9-416f-a041-d4339a3be42b",
   "metadata": {},
   "source": [
    "Exercise 4: Create a markdown cell to list data science languages\n",
    "\n",
    "Some of the popular languages that Data Scientist use are:\n",
    "1. Python\n",
    "2. R\n",
    "3. SQL\n",
    "4. Julia\n",
    "5. Scala\n",
    "6. Java\n",
    "7. C++\n",
    "8. JavaScript\n",
    "9. Php\n",
    "10. Go\n",
    "11. Ruby\n",
    "12. Visual Basic"
   ]
  },
  {
   "cell_type": "markdown",
   "id": "9f42ace6-88b3-492f-9b96-8749387a97aa",
   "metadata": {},
   "source": [
    "Exercise 5: Create a markdown cell to list data science libraries\n",
    "\n",
    "Some of the commonly used libraries used by Data Scientist include:\n",
    "\n",
    "1. Pandas\n",
    "2. NumPy\n",
    "3. TensorFlow\n",
    "4. Matplotlib\n",
    "5. PyTorch\n",
    "6. Scikit-learn\n",
    "7. Keras\n",
    "8. Apache Spark\n",
    "9. Vegas\n",
    "10. Big DL\n",
    "11. Ggplot2\n",
    "12. Seaborn\n"
   ]
  },
  {
   "cell_type": "markdown",
   "id": "d7dd64b6-c03e-49c6-99d4-618a5e9bacd3",
   "metadata": {},
   "source": [
    "Exercise 6: Create a markdown cell with a table of Data Science tools\n",
    "\n",
    "| Data Science Tools |\n",
    "|:--                 |\n",
    "| Jupiter Notebooks  |\n",
    "| R Studio           |\n",
    "| Anaconda           |\n",
    "| Spyder             |\n",
    "| Zeppelin           |\n",
    "\n"
   ]
  },
  {
   "cell_type": "markdown",
   "id": "8ad40652-0587-4d2e-8849-1549d8149eb2",
   "metadata": {},
   "source": [
    "Exercise 7: Create a markdown cell introducing arithmetic expression examples\n",
    "\n",
    "### Below are few examples of evaluating arithmetic expressions in Python\n",
    "1. a + b   Addition \n",
    "2. a - b   Subtraction\n",
    "3. a * c   Multiplication\n",
    "4. a / c   Division"
   ]
  },
  {
   "cell_type": "code",
   "execution_count": 2,
   "id": "35537471-4bf3-4bd3-b9ca-0063f1af1fb2",
   "metadata": {},
   "outputs": [
    {
     "data": {
      "text/plain": [
       "17"
      ]
     },
     "execution_count": 2,
     "metadata": {},
     "output_type": "execute_result"
    }
   ],
   "source": [
    "#Exercise 8: Create a code cell to multiply and add numbers\n",
    "\n",
    "#This is a simple arithmetic expression to multiply  and then add integers\n",
    "(3 * 4) + 5"
   ]
  },
  {
   "cell_type": "code",
   "execution_count": 5,
   "id": "a4867490-6e40-414a-8313-89d80155b2d1",
   "metadata": {},
   "outputs": [
    {
     "data": {
      "text/plain": [
       "3.3333333333333335"
      ]
     },
     "execution_count": 5,
     "metadata": {},
     "output_type": "execute_result"
    }
   ],
   "source": [
    "#Exercise 9: Create a code cell to convert minutes to hours\n",
    "\n",
    "#This convert 200 minutes to hours by dividing by 60\n",
    "(200 / 60)"
   ]
  },
  {
   "cell_type": "markdown",
   "id": "f556a716-d8c5-41b0-9420-cfacfe9510b9",
   "metadata": {},
   "source": [
    "__Author__\n",
    "\n",
    "Luis Rocco Miranda"
   ]
  },
  {
   "cell_type": "code",
   "execution_count": null,
   "id": "f326d222-e399-4b7d-9e30-f92776ffdcbd",
   "metadata": {},
   "outputs": [],
   "source": []
  }
 ],
 "metadata": {
  "kernelspec": {
   "display_name": "Python 3 (ipykernel)",
   "language": "python",
   "name": "python3"
  },
  "language_info": {
   "codemirror_mode": {
    "name": "ipython",
    "version": 3
   },
   "file_extension": ".py",
   "mimetype": "text/x-python",
   "name": "python",
   "nbconvert_exporter": "python",
   "pygments_lexer": "ipython3",
   "version": "3.11.7"
  }
 },
 "nbformat": 4,
 "nbformat_minor": 5
}
